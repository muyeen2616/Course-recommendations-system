{
 "cells": [
  {
   "cell_type": "markdown",
   "id": "74a8455f-ed44-4e3f-aa64-404477551d2a",
   "metadata": {},
   "source": [
    "## Import Libraries"
   ]
  },
  {
   "cell_type": "code",
   "execution_count": 6,
   "id": "f80cc568-1850-4c17-95e1-028877224a1f",
   "metadata": {},
   "outputs": [],
   "source": [
    "import pandas as pd\n",
    "import numpy as np\n",
    "from surprise import Dataset, Reader, SVD\n",
    "from surprise.model_selection import train_test_split\n",
    "from collections import defaultdict"
   ]
  },
  {
   "cell_type": "markdown",
   "id": "30c0634b-a3cf-4ecf-b7ad-c4985fba993d",
   "metadata": {},
   "source": [
    "## Synthetic Dataset Creation"
   ]
  },
  {
   "cell_type": "code",
   "execution_count": 8,
   "id": "1e9b118f-d593-4159-94b4-0ce2e28b6d8a",
   "metadata": {},
   "outputs": [],
   "source": [
    "data = {\n",
    "    \"user_id\": [1, 1, 1, 2, 2, 3, 3, 3, 4, 4, 5, 5, 5, 6],\n",
    "    \"course_id\": [101, 102, 103, 101, 104, 102, 103, 105, 101, 103, 104, 105, 106, 101],\n",
    "    \"rating\": [5, 4, 3, 4, 5, 3, 5, 4, 2, 4, 5, 3, 4, 5],\n",
    "    \"course_category\": [\"tech\", \"business\", \"tech\", \"tech\", \"business\", \n",
    "                        \"business\", \"tech\", \"design\", \"tech\", \"tech\", \n",
    "                        \"business\", \"design\", \"tech\", \"tech\"]\n",
    "}\n",
    "\n",
    "df = pd.DataFrame(data)\n"
   ]
  },
  {
   "cell_type": "markdown",
   "id": "0c1946bb-5c73-4ea6-8be7-56393b2ed3d4",
   "metadata": {},
   "source": [
    "## Data Preprocessing"
   ]
  },
  {
   "cell_type": "markdown",
   "id": "cc27d4d8-ebe0-4d2f-a23e-c2913615db15",
   "metadata": {},
   "source": [
    "### Create a user-item rating matrix"
   ]
  },
  {
   "cell_type": "code",
   "execution_count": 33,
   "id": "ee825646-a335-4fdd-b7e3-4beee739ee39",
   "metadata": {},
   "outputs": [],
   "source": [
    "user_item_matrix = df.pivot_table(index='user_id', columns='course_id', values='rating').fillna(0)"
   ]
  },
  {
   "cell_type": "markdown",
   "id": "5c2e3085-2177-4160-bcec-afa941bdad05",
   "metadata": {},
   "source": [
    "### Surprise library expects data in the format: [user_id, item_id, rating]\n"
   ]
  },
  {
   "cell_type": "markdown",
   "id": "e6053ae0-ddc4-4a6e-9a5e-1bbae571907a",
   "metadata": {},
   "source": [
    "reader = Reader(rating_scale=(1, 5))\n",
    "dataset = Dataset.load_from_df(df[['user_id', 'course_id', 'rating']], reader)\n"
   ]
  },
  {
   "cell_type": "markdown",
   "id": "746f53a7-4b77-4689-9848-8e18a6124ba3",
   "metadata": {},
   "source": [
    "### Split data into train and test sets\n"
   ]
  },
  {
   "cell_type": "code",
   "execution_count": 30,
   "id": "de63472f-5ddd-4d9b-b6aa-315bd2430b1d",
   "metadata": {},
   "outputs": [],
   "source": [
    "trainset, testset = train_test_split(dataset, test_size=0.25, random_state=42)\n"
   ]
  },
  {
   "cell_type": "markdown",
   "id": "66671436-ce5e-4c2f-8efa-ccef1c65fc91",
   "metadata": {},
   "source": [
    "## 3. Model Training (Collaborative Filtering)\n"
   ]
  },
  {
   "cell_type": "markdown",
   "id": "becbbcf3-2d79-464d-82f9-5f2db762a6ab",
   "metadata": {},
   "source": [
    "### Use Singular Value Decomposition (SVD)\n"
   ]
  },
  {
   "cell_type": "code",
   "execution_count": 36,
   "id": "d37ffa71-b620-42ef-8dc5-c89fb4209533",
   "metadata": {},
   "outputs": [
    {
     "data": {
      "text/plain": [
       "<surprise.prediction_algorithms.matrix_factorization.SVD at 0x2cadb4fc6b0>"
      ]
     },
     "execution_count": 36,
     "metadata": {},
     "output_type": "execute_result"
    }
   ],
   "source": [
    "model = SVD(n_factors=50, n_epochs=20, lr_all=0.005, reg_all=0.02)\n",
    "model.fit(trainset)\n"
   ]
  },
  {
   "cell_type": "markdown",
   "id": "9815e3bf-8619-417a-9880-89de13cfc744",
   "metadata": {},
   "source": [
    "### Evaluate model on test set\n"
   ]
  },
  {
   "cell_type": "code",
   "execution_count": 41,
   "id": "83ce84d5-fafe-4906-a03a-eecceef22abb",
   "metadata": {},
   "outputs": [
    {
     "name": "stdout",
     "output_type": "stream",
     "text": [
      "RMSE: 0.9135\n",
      "RMSE: 0.9134978327418207\n"
     ]
    }
   ],
   "source": [
    "from surprise import accuracy\n",
    "\n",
    "predictions = model.test(testset)\n",
    "rmse = accuracy.rmse(predictions)\n",
    "print(f\"RMSE: {rmse}\")\n",
    "\n"
   ]
  },
  {
   "cell_type": "markdown",
   "id": "2d451c50-fafa-4f82-a885-3b3e8d8dabc8",
   "metadata": {},
   "source": [
    "## 4. Generate Recommendations"
   ]
  },
  {
   "cell_type": "code",
   "execution_count": 46,
   "id": "a63298fc-dd08-47fd-bfb0-fbec76b7b90c",
   "metadata": {},
   "outputs": [],
   "source": [
    "def get_top_n_recommendations(model, user_id, n=5):\n",
    "    pass  # Replace this with actual implementation\n"
   ]
  },
  {
   "cell_type": "markdown",
   "id": "eaff5bf8-a08a-488a-98db-93dc5d35fe72",
   "metadata": {},
   "source": [
    "   ### Get list of all course IDs\n"
   ]
  },
  {
   "cell_type": "code",
   "execution_count": 52,
   "id": "22ec21eb-9d7c-4106-b5cf-cb812972a3fa",
   "metadata": {},
   "outputs": [],
   "source": [
    "    all_course_ids = df['course_id'].unique()"
   ]
  },
  {
   "cell_type": "markdown",
   "id": "2b46f247-1360-4573-8608-0dcb43761429",
   "metadata": {},
   "source": [
    " ### Get courses the user has already rated\n"
   ]
  },
  {
   "cell_type": "code",
   "execution_count": 64,
   "id": "83cbb918-b6c6-40db-92b0-d6f6a28fbb0e",
   "metadata": {},
   "outputs": [
    {
     "name": "stdout",
     "output_type": "stream",
     "text": [
      "[102]\n"
     ]
    }
   ],
   "source": [
    "import pandas as pd\n",
    "\n",
    "data = {'user_id': [1, 2, 3, 4], 'course_id': [101, 102, 103, 104]}\n",
    "df = pd.DataFrame(data)\n",
    "\n",
    "user_id = 2  \n",
    "\n",
    "user_courses = df[df['user_id'] == user_id]['course_id'].tolist()\n",
    "\n",
    "print(user_courses)  # Output: [102]\n"
   ]
  },
  {
   "cell_type": "markdown",
   "id": "d812101b-660b-48de-a88e-5671315dbe75",
   "metadata": {},
   "source": [
    " ### Predict ratings for unrated courses"
   ]
  },
  {
   "cell_type": "code",
   "execution_count": 69,
   "id": "85d133e7-b6f9-4d80-802c-a25769cb2df9",
   "metadata": {},
   "outputs": [],
   "source": [
    "predictions = []\n",
    "for course_id in all_course_ids:  # Ensure this is correctly indented\n",
    "    if course_id not in user_courses:\n",
    "        pred = model.predict(user_id, course_id)\n",
    "        predictions.append((course_id, pred.est))\n"
   ]
  },
  {
   "cell_type": "markdown",
   "id": "d3b2c572-9473-4f49-9ad1-61f105779231",
   "metadata": {},
   "source": [
    "   ### Sort predictions by estimated rating\n"
   ]
  },
  {
   "cell_type": "code",
   "execution_count": 72,
   "id": "ce24055e-f178-4749-8607-6af3a38372be",
   "metadata": {},
   "outputs": [],
   "source": [
    "predictions.sort(key=lambda x: x[1], reverse=True)\n"
   ]
  },
  {
   "cell_type": "markdown",
   "id": "5ce1daf6-424e-4c99-916a-91f99617ba0a",
   "metadata": {},
   "source": [
    "## Return top N recommendations\n"
   ]
  },
  {
   "cell_type": "code",
   "execution_count": 77,
   "id": "ade720d1-0b43-45eb-aee0-df847d65d323",
   "metadata": {},
   "outputs": [],
   "source": [
    "def my_function():\n",
    "    predictions = []\n",
    "    return predictions[:n]  \n"
   ]
  },
  {
   "cell_type": "markdown",
   "id": "d9f7de27-2f4e-4d85-9d23-83e6ae52d790",
   "metadata": {},
   "source": [
    "### Example: Get top 3 recommendations for user 5\n"
   ]
  },
  {
   "cell_type": "code",
   "execution_count": 80,
   "id": "467ddded-ab9a-464c-9319-6f3f480d6f35",
   "metadata": {},
   "outputs": [
    {
     "name": "stdout",
     "output_type": "stream",
     "text": [
      "Top recommendations for user 5: None\n"
     ]
    }
   ],
   "source": [
    "user_id = 5\n",
    "recommendations = get_top_n_recommendations(model, user_id, n=3)\n",
    "print(f\"Top recommendations for user {user_id}: {recommendations}\")\n"
   ]
  },
  {
   "cell_type": "markdown",
   "id": "75678f2d-cd3f-4366-96be-db2addfea073",
   "metadata": {},
   "source": [
    "## 5. Popularity-Based Fallback (Hybrid Approach)\n"
   ]
  },
  {
   "cell_type": "markdown",
   "id": "df4841fb-d1e3-421d-aaad-e75c6663ffbd",
   "metadata": {},
   "source": [
    "### If the user is new, recommend popular courses"
   ]
  },
  {
   "cell_type": "code",
   "execution_count": 90,
   "id": "2ae1fa63-11ce-4e3e-b45f-2c15ae2ef9f5",
   "metadata": {},
   "outputs": [
    {
     "name": "stdout",
     "output_type": "stream",
     "text": [
      "Columns in df: Index(['course_id', 'rating'], dtype='object')\n",
      "Popular courses: [101, 102, 103]\n"
     ]
    }
   ],
   "source": [
    "import pandas as pd\n",
    "\n",
    "data = {'course_id': [101, 102, 103, 101, 102, 104], 'rating': [5, 4, 3, 5, 2, 4]}\n",
    "df = pd.DataFrame(data)\n",
    "\n",
    "print(\"Columns in df:\", df.columns)\n",
    "\n",
    "def get_popular_courses(n=5):\n",
    "    if 'rating' not in df.columns:\n",
    "        raise KeyError(\"Column 'rating' not found in dataset\")\n",
    "\n",
    "    course_popularity = df.groupby('course_id')['rating'].count().reset_index()\n",
    "    course_popularity.columns = ['course_id', 'score']\n",
    "    course_popularity = course_popularity.sort_values(by='score', ascending=False)\n",
    "\n",
    "    return course_popularity['course_id'].tolist()[:n]\n",
    "\n",
    "print(f\"Popular courses: {get_popular_courses(3)}\")\n"
   ]
  },
  {
   "cell_type": "markdown",
   "id": "c4bb6709-4988-4aa0-b6ba-05fea2e7b6a2",
   "metadata": {},
   "source": [
    "## 6. Data Visualization"
   ]
  },
  {
   "cell_type": "markdown",
   "id": "c69a36b6-2712-42c1-b22a-b40db2190c67",
   "metadata": {},
   "source": [
    "### 1. Course Popularity Bar Chart"
   ]
  },
  {
   "cell_type": "code",
   "execution_count": 100,
   "id": "c272801f-79d9-463f-b300-f9551dd4fa9e",
   "metadata": {},
   "outputs": [
    {
     "name": "stderr",
     "output_type": "stream",
     "text": [
      "C:\\Users\\muyee\\AppData\\Local\\Temp\\ipykernel_10032\\763293259.py:11: FutureWarning: \n",
      "\n",
      "Passing `palette` without assigning `hue` is deprecated and will be removed in v0.14.0. Assign the `x` variable to `hue` and set `legend=False` for the same effect.\n",
      "\n",
      "  sns.barplot(x='course_id', y='rating', data=popularity_data, palette='viridis')\n"
     ]
    },
    {
     "data": {
      "image/png": "[encoded data removed]",
      "text/plain": [
       "<Figure size 800x500 with 1 Axes>"
      ]
     },
     "metadata": {},
     "output_type": "display_data"
    }
   ],
   "source": [
    "import matplotlib.pyplot as plt\n",
    "import seaborn as sns\n",
    "import pandas as pd\n",
    "\n",
    "# df = pd.DataFrame({'course_id': [101, 102, 103, 104], 'rating': [5, 8, 12, 7]})\n",
    "\n",
    "plt.figure(figsize=(8, 5))\n",
    "\n",
    "popularity_data = df.groupby('course_id')['rating'].count().reset_index()\n",
    "\n",
    "sns.barplot(x='course_id', y='rating', data=popularity_data, palette='viridis')\n",
    "\n",
    "plt.xlabel(\"Course ID\")\n",
    "plt.ylabel(\"Number of Ratings\")\n",
    "plt.title(\"Course Popularity Based on Ratings\")\n",
    "\n",
    "plt.show()\n"
   ]
  },
  {
   "cell_type": "markdown",
   "id": "e246f209-2cfa-4529-87c5-94c5c6a9fbc4",
   "metadata": {},
   "source": [
    "### 2. User Rating Distribution"
   ]
  },
  {
   "cell_type": "code",
   "execution_count": 108,
   "id": "4b62a163-d037-4b48-aa6f-274bcc8956aa",
   "metadata": {},
   "outputs": [
    {
     "name": "stdout",
     "output_type": "stream",
     "text": [
      "Index(['course_id', 'rating'], dtype='object')\n",
      "Error: 'user_id' column is missing from DataFrame\n"
     ]
    }
   ],
   "source": [
    "import matplotlib.pyplot as plt\n",
    "import seaborn as sns\n",
    "import pandas as pd\n",
    "\n",
    "# Check DataFrame columns\n",
    "print(df.columns)\n",
    "\n",
    "# Fix missing column case\n",
    "if 'user_id' in df.columns:\n",
    "    plt.figure(figsize=(8, 5))\n",
    "    user_rating_counts = df.groupby('user_id')['rating'].count().reset_index()\n",
    "    sns.barplot(x='user_id', y='rating', data=user_rating_counts, palette='coolwarm')\n",
    "    plt.xlabel(\"User ID\")\n",
    "    plt.ylabel(\"Number of Ratings Given\")\n",
    "    plt.title(\"User Rating Distribution\")\n",
    "    plt.show()\n",
    "else:\n",
    "    print(\"Error: 'user_id' column is missing from DataFrame\")\n"
   ]
  },
  {
   "cell_type": "markdown",
   "id": "b9ea5b7f-4dd9-46be-ab41-ae5a4e8b40f9",
   "metadata": {},
   "source": [
    "### 3. Predicted Ratings for a Sample User (e.g., User 5)"
   ]
  },
  {
   "cell_type": "code",
   "execution_count": 113,
   "id": "a960f684-7c0d-40e5-843d-377565bce40e",
   "metadata": {},
   "outputs": [
    {
     "data": {
      "image/png": "[encoded data removed]",
      "text/plain": [
       "<Figure size 800x500 with 1 Axes>"
      ]
     },
     "metadata": {},
     "output_type": "display_data"
    }
   ],
   "source": [
    "recommendation_data = pd.DataFrame(recommendations, columns=['course_id', 'predicted_rating'])\n",
    "plt.figure(figsize=(8, 5))\n",
    "sns.barplot(x='course_id', y='predicted_rating', data=recommendation_data, palette='magma')\n",
    "plt.xlabel(\"Recommended Course ID\")\n",
    "plt.ylabel(\"Predicted Rating\")\n",
    "plt.title(\"Top {len(recommendations)} Recommended Courses for User {user_id}\")\n",
    "plt.show()"
   ]
  },
  {
   "cell_type": "code",
   "execution_count": null,
   "id": "1a4c073a-24cc-40d2-9393-953e1703f747",
   "metadata": {},
   "outputs": [],
   "source": []
  }
 ],
 "metadata": {
  "kernelspec": {
   "display_name": "Python [conda env:base] *",
   "language": "python",
   "name": "conda-base-py"
  },
  "language_info": {
   "codemirror_mode": {
    "name": "ipython",
    "version": 3
   },
   "file_extension": ".py",
   "mimetype": "text/x-python",
   "name": "python",
   "nbconvert_exporter": "python",
   "pygments_lexer": "ipython3",
   "version": "3.12.7"
  }
 },
 "nbformat": 4,
 "nbformat_minor": 5
}
